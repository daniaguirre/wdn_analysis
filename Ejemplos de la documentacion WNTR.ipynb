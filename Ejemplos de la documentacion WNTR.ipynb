{
 "cells": [
  {
   "cell_type": "markdown",
   "metadata": {},
   "source": [
    "importar las librerias"
   ]
  },
  {
   "cell_type": "code",
   "execution_count": 31,
   "metadata": {},
   "outputs": [],
   "source": [
    "import networkx as nx\n",
    "import wntr\n",
    "import matplotlib.pyplot as plt\n",
    "import matplotlib.animation as animation"
   ]
  },
  {
   "cell_type": "markdown",
   "metadata": {},
   "source": [
    "importamos el archivo de la red (*.inp) y lo gurada en la variable "
   ]
  },
  {
   "cell_type": "code",
   "execution_count": 32,
   "metadata": {},
   "outputs": [],
   "source": [
    "wn = wntr.network.WaterNetworkModel('nets_examples/Net3.inp')"
   ]
  },
  {
   "cell_type": "markdown",
   "metadata": {},
   "source": [
    "Converimos la red importada a un multugrafo dirigido"
   ]
  },
  {
   "cell_type": "code",
   "execution_count": 33,
   "metadata": {},
   "outputs": [],
   "source": [
    "G = wn.get_graph() # directed multigraph"
   ]
  },
  {
   "cell_type": "markdown",
   "metadata": {},
   "source": [
    "Convertimos el grafo G (multigrafo dirigido) a un grafo (multigrafo) no dirigido"
   ]
  },
  {
   "cell_type": "code",
   "execution_count": 34,
   "metadata": {},
   "outputs": [],
   "source": [
    "uG = G.to_undirected() "
   ]
  },
  {
   "cell_type": "markdown",
   "metadata": {},
   "source": [
    "Convertimos el grafo uG (multigrafo no dirigido) a un grafo simple (no es multi ni dirigido)"
   ]
  },
  {
   "cell_type": "code",
   "execution_count": 35,
   "metadata": {},
   "outputs": [],
   "source": [
    "sG = nx.Graph(uG)"
   ]
  },
  {
   "cell_type": "markdown",
   "metadata": {},
   "source": [
    "# Graficas"
   ]
  },
  {
   "cell_type": "markdown",
   "metadata": {},
   "source": [
    "Network animation can be generated using the function network_animation. Node and link attributes can be specified using pandas DataFrames, where the index is time and columns are the node or link name.\n",
    "\n",
    "The following example creates a network animation of water age over time."
   ]
  },
  {
   "cell_type": "code",
   "execution_count": 56,
   "metadata": {},
   "outputs": [
    {
     "name": "stdout",
     "output_type": "stream",
     "text": [
      "name     10   15   20   35   40   50   60  601   61  101  ...  267  269  271  \\\n",
      "0       0.0  0.0  0.0  0.0  0.0  0.0  0.0  0.0  0.0  0.0  ...  0.0  0.0  0.0   \n",
      "900     0.0  0.0  0.0  0.0  0.0  0.0  0.0  0.0  0.0  0.0  ...  0.0  0.0  0.0   \n",
      "1800    0.0  0.0  0.0  0.0  0.0  0.0  0.0  0.0  0.0  0.0  ...  0.0  0.0  0.0   \n",
      "2700    0.0  0.0  0.0  0.0  0.0  0.0  0.0  0.0  0.0  0.0  ...  0.0  0.0  0.0   \n",
      "3600    0.0  0.0  0.0  0.0  0.0  0.0  0.0  0.0  0.0  0.0  ...  0.0  0.0  0.0   \n",
      "...     ...  ...  ...  ...  ...  ...  ...  ...  ...  ...  ...  ...  ...  ...   \n",
      "601200  0.0  0.0  0.0  0.0  0.0  0.0  0.0  0.0  0.0  0.0  ...  0.0  0.0  0.0   \n",
      "602100  0.0  0.0  0.0  0.0  0.0  0.0  0.0  0.0  0.0  0.0  ...  0.0  0.0  0.0   \n",
      "603000  0.0  0.0  0.0  0.0  0.0  0.0  0.0  0.0  0.0  0.0  ...  0.0  0.0  0.0   \n",
      "603900  0.0  0.0  0.0  0.0  0.0  0.0  0.0  0.0  0.0  0.0  ...  0.0  0.0  0.0   \n",
      "604800  0.0  0.0  0.0  0.0  0.0  0.0  0.0  0.0  0.0  0.0  ...  0.0  0.0  0.0   \n",
      "\n",
      "name    273  275  River  Lake    1    2    3  \n",
      "0       0.0  0.0    0.0   0.0  0.0  0.0  0.0  \n",
      "900     0.0  0.0    0.0   0.0  0.0  0.0  0.0  \n",
      "1800    0.0  0.0    0.0   0.0  0.0  0.0  0.0  \n",
      "2700    0.0  0.0    0.0   0.0  0.0  0.0  0.0  \n",
      "3600    0.0  0.0    0.0   0.0  0.0  0.0  0.0  \n",
      "...     ...  ...    ...   ...  ...  ...  ...  \n",
      "601200  0.0  0.0    0.0   0.0  0.0  0.0  0.0  \n",
      "602100  0.0  0.0    0.0   0.0  0.0  0.0  0.0  \n",
      "603000  0.0  0.0    0.0   0.0  0.0  0.0  0.0  \n",
      "603900  0.0  0.0    0.0   0.0  0.0  0.0  0.0  \n",
      "604800  0.0  0.0    0.0   0.0  0.0  0.0  0.0  \n",
      "\n",
      "[673 rows x 97 columns]\n"
     ]
    }
   ],
   "source": [
    "wn.options.quality.mode = 'AGE'\n",
    "sim = wntr.sim.EpanetSimulator(wn)\n",
    "results = sim.run_sim()\n",
    "water_age = results.node['quality']/3600 # convert seconds to hours\n",
    "print(water_age)"
   ]
  },
  {
   "cell_type": "code",
   "execution_count": 55,
   "metadata": {},
   "outputs": [
    {
     "data": {
      "text/plain": [
       "<Figure size 432x288 with 0 Axes>"
      ]
     },
     "metadata": {},
     "output_type": "display_data"
    },
    {
     "data": {
      "image/png": "[encoded data removed]",
      "text/plain": [
       "<Figure size 432x288 with 2 Axes>"
      ]
     },
     "metadata": {},
     "output_type": "display_data"
    }
   ],
   "source": [
    "fig = plt.figure()\n",
    "fig.subplots_adjust(bottom = 0)\n",
    "fig.subplots_adjust(top = 1)\n",
    "fig.subplots_adjust(right = 1)\n",
    "fig.subplots_adjust(left = 0)\n",
    "anim = wntr.graphics.network_animation(wn, node_attribute=water_age, node_range=[0,24],repeat=True)\n",
    "with open(\"myvideo.html\", \"w\") as f:\n",
    "    print(anim.to_html5_video(), file=f)"
   ]
  }
 ],
 "metadata": {
  "kernelspec": {
   "display_name": "Python 3",
   "language": "python",
   "name": "python3"
  },
  "language_info": {
   "codemirror_mode": {
    "name": "ipython",
    "version": 3
   },
   "file_extension": ".py",
   "mimetype": "text/x-python",
   "name": "python",
   "nbconvert_exporter": "python",
   "pygments_lexer": "ipython3",
   "version": "3.8.5"
  }
 },
 "nbformat": 4,
 "nbformat_minor": 4
}
