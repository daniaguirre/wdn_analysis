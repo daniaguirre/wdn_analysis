{
 "cells": [
  {
   "cell_type": "markdown",
   "metadata": {},
   "source": [
    "# Descripción general de la red"
   ]
  },
  {
   "cell_type": "markdown",
   "metadata": {},
   "source": [
    "Importar las librerias de networkx y wntr."
   ]
  },
  {
   "cell_type": "code",
   "execution_count": 3,
   "metadata": {},
   "outputs": [],
   "source": [
    "import networkx as nx\n",
    "import wntr\n",
    "import numpy as np\n",
    "import matplotlib.pylab as plt"
   ]
  },
  {
   "cell_type": "markdown",
   "metadata": {},
   "source": [
    "Importar el archivo de la red (*.inp) y se guarda en la variable 'wn'."
   ]
  },
  {
   "cell_type": "code",
   "execution_count": 4,
   "metadata": {},
   "outputs": [],
   "source": [
    "wn = wntr.network.WaterNetworkModel('nets/Chihuahua.inp')"
   ]
  },
  {
   "cell_type": "markdown",
   "metadata": {},
   "source": [
    "## Métricas hidráulicas\n",
    "Requieren de la simulación hidráulica de la red."
   ]
  },
  {
   "cell_type": "code",
   "execution_count": 5,
   "metadata": {},
   "outputs": [],
   "source": [
    "wn.options.hydraulic.demand_model = 'PDD'\n",
    "sim = wntr.sim.WNTRSimulator(wn)\n",
    "results = sim.run_sim()"
   ]
  },
  {
   "cell_type": "markdown",
   "metadata": {},
   "source": [
    "Nodos y momentos en los que la presión (pressure) supera (np.greater) un umbral (threshold), utilizando los resultados de una simulación hidráulica."
   ]
  },
  {
   "cell_type": "code",
   "execution_count": 7,
   "metadata": {},
   "outputs": [],
   "source": [
    "pressure = results.node['pressure']\n",
    "threshold = 21.09 # 30 psi\n",
    "pressure_above_threshold = wntr.metrics.query(pressure, np.greater,threshold)\n",
    "#print (pressure_above_threshold)"
   ]
  },
  {
   "cell_type": "code",
   "execution_count": 8,
   "metadata": {},
   "outputs": [],
   "source": [
    "demand = results.node['demand']"
   ]
  },
  {
   "cell_type": "markdown",
   "metadata": {},
   "source": [
    "## Indice de Todini\n",
    "El resultado se da en distintos momentos de tiempo"
   ]
  },
  {
   "cell_type": "code",
   "execution_count": 9,
   "metadata": {},
   "outputs": [
    {
     "name": "stdout",
     "output_type": "stream",
     "text": [
      "0        0.750227\n",
      "3600     0.751810\n",
      "7200     0.753340\n",
      "10800    0.754800\n",
      "14400    0.766471\n",
      "18000    0.415395\n",
      "21600    0.414843\n",
      "25200    0.414231\n",
      "28800    0.395831\n",
      "32400    0.394830\n",
      "36000    0.704603\n",
      "39600    0.703722\n",
      "43200    0.702903\n",
      "46800    0.702238\n",
      "50400    0.701382\n",
      "54000    0.702439\n",
      "57600    0.416643\n",
      "61200    0.415318\n",
      "64800    0.414158\n",
      "68400    0.413006\n",
      "72000    0.697799\n",
      "75600    0.698361\n",
      "79200    0.699322\n",
      "82800    0.700475\n",
      "86400    0.750227\n",
      "dtype: float64\n"
     ]
    }
   ],
   "source": [
    "head = results.node['head']\n",
    "pump_flowrate = results.link['flowrate'].loc[:,wn.pump_name_list]\n",
    "todini = wntr.metrics.todini_index(head, pressure, demand, pump_flowrate, wn,threshold)\n",
    "print(todini)"
   ]
  },
  {
   "cell_type": "code",
   "execution_count": 30,
   "metadata": {},
   "outputs": [
    {
     "name": "stdout",
     "output_type": "stream",
     "text": [
      "25\n"
     ]
    }
   ],
   "source": [
    "print(len(todini))"
   ]
  },
  {
   "cell_type": "code",
   "execution_count": 31,
   "metadata": {},
   "outputs": [
    {
     "name": "stdout",
     "output_type": "stream",
     "text": [
      "['BOMBA14', 'BOMBA_4', 'BOMBA_6', 'BOMBA_7', 'BOMBA_8', 'BOMBA_1', 'BOMBA_2', 'BOMBA_3', 'BOMBA_9', 'BOMBA13', 'BOMBA_5']\n"
     ]
    }
   ],
   "source": [
    "print(wn.pump_name_list)"
   ]
  },
  {
   "cell_type": "code",
   "execution_count": null,
   "metadata": {},
   "outputs": [],
   "source": []
  }
 ],
 "metadata": {
  "kernelspec": {
   "display_name": "Python 3",
   "language": "python",
   "name": "python3"
  },
  "language_info": {
   "codemirror_mode": {
    "name": "ipython",
    "version": 3
   },
   "file_extension": ".py",
   "mimetype": "text/x-python",
   "name": "python",
   "nbconvert_exporter": "python",
   "pygments_lexer": "ipython3",
   "version": "3.8.5"
  }
 },
 "nbformat": 4,
 "nbformat_minor": 5
}
